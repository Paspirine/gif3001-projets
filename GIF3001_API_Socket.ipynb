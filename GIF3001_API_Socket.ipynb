{
  "nbformat": 4,
  "nbformat_minor": 0,
  "metadata": {
    "kernelspec": {
      "display_name": "Python 3",
      "language": "python",
      "name": "python3"
    },
    "language_info": {
      "codemirror_mode": {
        "name": "ipython",
        "version": 3
      },
      "file_extension": ".py",
      "mimetype": "text/x-python",
      "name": "python",
      "nbconvert_exporter": "python",
      "pygments_lexer": "ipython3",
      "version": "3.7.2"
    },
    "colab": {
      "name": "GIF3001_API_Socket.ipynb",
      "provenance": [],
      "include_colab_link": true
    }
  },
  "cells": [
    {
      "cell_type": "markdown",
      "metadata": {
        "id": "view-in-github",
        "colab_type": "text"
      },
      "source": [
        "<a href=\"https://colab.research.google.com/github/flparen/gif3001-socketapi/blob/master/GIF3001_API_Socket.ipynb\" target=\"_parent\"><img src=\"https://colab.research.google.com/assets/colab-badge.svg\" alt=\"Open In Colab\"/></a>"
      ]
    },
    {
      "cell_type": "markdown",
      "metadata": {
        "id": "pSJu5jXpgviD",
        "colab_type": "text"
      },
      "source": [
        "# API socket\n",
        "L'API socket a été introduit dans BSD UNIX 4.1 en 1981. L'API offre une abstraction des fonctions d'émission et de réception de données. \n",
        "\n",
        "Un **socket** est une interface de communication utilisé par un processus utilisateur. Cette interface prend la forme d'un descripteur de fichier, et est utilisé pour la transmission et réception de données.\n",
        "Il existe plusieurs classes de **socket** (_domain_). Ceux qui nous intéresse particulièrement dans le cours sont les sockets de type **IPv4 et IPv6**.\n",
        "\n",
        "![alt text](https://github.com/flparen/gif3001-socketapi/raw/master/socket_interface.png)\n",
        "\n",
        "\n",
        "\n",
        "\n",
        "\n"
      ]
    },
    {
      "cell_type": "markdown",
      "metadata": {
        "id": "wW306rN8gviF",
        "colab_type": "text"
      },
      "source": [
        "Le tableau suivant résume quelques fonctions de base du socket API en C \n",
        "\n",
        "|**Fonction**|**Description**|**client?**|**serveur?**|\n",
        "|:-----------|--------------|:---------:|:----------:|\n",
        "|socket()|Crée un socket|oui|oui|\n",
        "|connect()|Initie une connexion (TCP)|oui|non|\n",
        "|bind()|Lie le socket sur un adresse IP locale|opt|oui|\n",
        "|listen()|Place le socket en mode écoute pour recevoir des connexions client|non|oui|\n",
        "|accept()|Accepte une connexion client|non|oui|\n",
        "|read(), write(), recv(), send(), ...|Reçoit et envoie des données|oui|oui|\n",
        "|close()|Ferme le socket|oui|oui|\n"
      ]
    },
    {
      "cell_type": "markdown",
      "metadata": {
        "id": "z51aD95QgviH",
        "colab_type": "text"
      },
      "source": [
        "Les sockets \n",
        "Il existe plusieurs familles de socket\n",
        "\n",
        "|**Famille**|**Description**|\n",
        "|:---------:|:-------------:|\n",
        "|socket.AF\\_INET|IPv4|\n",
        "|socket.AF\\_INET6|IPv6|\n",
        "|socket.AF\\_UNIX|Communication locale|\n",
        "|socket.AF\\_PACKET|Utilisé pour la transmission et réception de packet à la couche liaison (_paquet bas-niveau_)|"
      ]
    },
    {
      "cell_type": "markdown",
      "metadata": {
        "id": "lXqfm4K1gviI",
        "colab_type": "text"
      },
      "source": [
        "Pour utiliser l'interface socket en Python, il est nécessaire d'importer le module `socket`\n",
        "```python\n",
        "import socket\n",
        "```\n",
        "\n"
      ]
    },
    {
      "cell_type": "code",
      "metadata": {
        "id": "c-wCAGaigviK",
        "colab_type": "code",
        "colab": {
          "base_uri": "https://localhost:8080/",
          "height": 34
        },
        "outputId": "0cdc63dc-23c0-4b2a-b104-cca4a3ef91cb"
      },
      "source": [
        "import socket\n",
        "socket.socket(socket.AF_INET,)"
      ],
      "execution_count": 1,
      "outputs": [
        {
          "output_type": "execute_result",
          "data": {
            "text/plain": [
              "<socket.socket fd=59, family=AddressFamily.AF_INET, type=SocketKind.SOCK_STREAM, proto=0, laddr=('0.0.0.0', 0)>"
            ]
          },
          "metadata": {
            "tags": []
          },
          "execution_count": 1
        }
      ]
    },
    {
      "cell_type": "code",
      "metadata": {
        "id": "ZJ6qv9FogviO",
        "colab_type": "code",
        "colab": {
          "base_uri": "https://localhost:8080/",
          "height": 34
        },
        "outputId": "84dfbdae-3d73-4beb-f2a6-47b51c984d90"
      },
      "source": [
        "socket.socket()"
      ],
      "execution_count": 2,
      "outputs": [
        {
          "output_type": "execute_result",
          "data": {
            "text/plain": [
              "<socket.socket fd=58, family=AddressFamily.AF_INET, type=SocketKind.SOCK_STREAM, proto=0, laddr=('0.0.0.0', 0)>"
            ]
          },
          "metadata": {
            "tags": []
          },
          "execution_count": 2
        }
      ]
    }
  ]
}