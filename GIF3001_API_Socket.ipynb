{
 "cells": [
  {
   "cell_type": "markdown",
   "metadata": {
    "colab_type": "text",
    "id": "view-in-github"
   },
   "source": [
    "<a href=\"https://colab.research.google.com/github/flparen/gif3001-socketapi/blob/master/GIF3001_API_Socket.ipynb\" target=\"_parent\"><img src=\"https://colab.research.google.com/assets/colab-badge.svg\" alt=\"Open In Colab\"/></a>"
   ]
  },
  {
   "cell_type": "markdown",
   "metadata": {
    "colab_type": "text",
    "id": "pSJu5jXpgviD"
   },
   "source": [
    "# API socket\n",
    "L'API socket a été introduit dans BSD UNIX 4.1 en 1981. L'API offre une abstraction des fonctions d'émission et de réception de données. \n",
    "\n",
    "Un **socket** est une interface de communication utilisé par un processus utilisateur. Cette interface prend la forme d'un descripteur de fichier, et est utilisé pour la transmission et réception de données.\n",
    "\n",
    "\n",
    "![alt text](https://github.com/flparen/gif3001-socketapi/raw/master/socket_interface.png)\n",
    "\n",
    "\n",
    "\n",
    "La documentation officielle de l'API socket de Python 3 est disponible à l'adresse https://docs.python.org/3/library/socket.html\n",
    "\n"
   ]
  },
  {
   "cell_type": "markdown",
   "metadata": {
    "colab_type": "text",
    "id": "wW306rN8gviF"
   },
   "source": [
    "Le tableau suivant résume quelques fonctions offertent par l'API socket de Python. Ces fontions utilisent les fonctions correspondantes du système d'exploitation. Nous allons examiner l'utilisation de ces fonctions dans le contexte d'une application client/serveur TCP et UDP.\n",
    "\n",
    "|**Fonction**|**Description**|**client?**|**serveur?**|\n",
    "|:-----------|--------------|:---------:|:----------:|\n",
    "|socket()|Crée un socket|oui|oui|\n",
    "|connect()|Initie une connexion (TCP)|oui|non|\n",
    "|bind()|Lie le socket sur un adresse IP locale|opt|oui|\n",
    "|listen()|Place le socket en mode écoute pour recevoir des connexions client|non|oui|\n",
    "|accept()|Accepte une connexion client|non|oui|\n",
    "|recv(), send(), ...|Reçoit et envoie des données|oui|oui|\n",
    "|close()|Ferme le socket|oui|oui|\n"
   ]
  },
  {
   "cell_type": "markdown",
   "metadata": {
    "colab_type": "text",
    "id": "z51aD95QgviH"
   },
   "source": [
    "\n",
    "Il existe plusieurs familles de socket. Ceux que nous allons utiliser ici sont les sockets de type **IPv4 et IPv6**.\n",
    "\n",
    "|**Famille**|**Description**|\n",
    "|:---------:|:-------------:|\n",
    "|socket.AF\\_INET|IPv4|\n",
    "|socket.AF\\_INET6|IPv6|\n",
    "|socket.AF\\_UNIX|Communication locale|\n",
    "|socket.AF\\_PACKET|Utilisé pour la transmission et réception de packet à la couche liaison (_paquet bas-niveau_)|\n",
    "\n",
    "Python utilise une paire (hôte, port) pour désigner une adresse socket IPv4. *hôte* désigne l'adresse IPv4 ou le nom de la machine, alors que *port* indique le numéro de port du service (ex: 80 pour HTTP).\n",
    "\n",
    "Pour IPv6, l'adresse socket est représenté par (hôte, port, flowinfo, scopeid), où *hôte* et l'adresse IPv6 ou le nom de la machine, et *port* est le numéro de port du service (semblable à IPv4).\n"
   ]
  },
  {
   "cell_type": "markdown",
   "metadata": {
    "colab_type": "text",
    "id": "lXqfm4K1gviI"
   },
   "source": [
    "Pour utiliser l'interface socket en Python, il est nécessaire d'importer le module `socket`\n",
    "```python\n",
    "import socket\n",
    "```\n",
    "\n"
   ]
  },
  {
   "cell_type": "markdown",
   "metadata": {},
   "source": [
    "## Client TCP\n",
    "\n",
    "Le schéma suivant démontre l'interaction entre un client et serveur TCP du point de vue de l'API socket.\n",
    "\n",
    "![alt text](https://github.com/flparen/gif3001-socketapi/raw/master/client_serveur_TCP.png)\n",
    "\n",
    "Regardons l'implémentation du client en Python\n"
   ]
  },
  {
   "cell_type": "code",
   "execution_count": null,
   "metadata": {
    "colab": {},
    "colab_type": "code",
    "id": "c-wCAGaigviK"
   },
   "outputs": [],
   "source": [
    "import socket\n",
    "\n",
    "SERVEUR = \"chat.gif3001.beon.ca\"\n",
    "PORT = 3001\n",
    "\n",
    "s = socket.socket(socket.AF_INET,socket.SOCK_STREAM)"
   ]
  },
  {
   "cell_type": "markdown",
   "metadata": {},
   "source": [
    "L'objet socket est créé. Un socket de type TCP doit être **connecté** pour pouvoir transmettre des données. La fonction *connect()* indique au système d'exploitation d'établir une connexion TCP vers le serveur et le numéro de port indiqué en paramètre."
   ]
  },
  {
   "cell_type": "code",
   "execution_count": null,
   "metadata": {},
   "outputs": [],
   "source": [
    "s.connect((SERVEUR, PORT))"
   ]
  },
  {
   "cell_type": "markdown",
   "metadata": {},
   "source": [
    "L'objet socket est maintenant connecté. Nous pouvons utiliser la fonction *send()* pour transmettre des données. Les données doivent être de type *octet* (bytes)"
   ]
  },
  {
   "cell_type": "code",
   "execution_count": null,
   "metadata": {},
   "outputs": [],
   "source": [
    "s.send(\"Test en classe\".encode())"
   ]
  },
  {
   "cell_type": "code",
   "execution_count": null,
   "metadata": {},
   "outputs": [],
   "source": [
    "data = s.recv(1024)"
   ]
  },
  {
   "cell_type": "code",
   "execution_count": null,
   "metadata": {},
   "outputs": [],
   "source": [
    "print (data)"
   ]
  },
  {
   "cell_type": "code",
   "execution_count": null,
   "metadata": {},
   "outputs": [],
   "source": [
    "s.close()"
   ]
  },
  {
   "cell_type": "markdown",
   "metadata": {},
   "source": [
    "## Client UDP\n",
    "\n",
    "Le schéma suivant démontre l'interaction entre un client et serveur UDP.\n",
    "\n",
    "![alt text](https://github.com/flparen/gif3001-socketapi/raw/master/client_serveur_UDP.png)\n",
    "\n",
    "Du côté client, la fonction ```connect()``` n'est pas utilisé car UDP est un protocole **sans connexion**. Le code client doit alors spécifier l'adresse et le numéro de port pour chaque données transmises au socket via la fonction ```sendto()``` \n",
    "\n",
    "Les données reçues sur le socket UDP sont lues par l'application via la fonction ```recvfrom()```. En plus de retourner les données reçues, cette fonction retourne également l'adresse et le numéro de port identifiant l'envoyeur des données. Cette information est importante afin de pouvoir transmettre une réponse, le cas échéant."
   ]
  },
  {
   "cell_type": "code",
   "execution_count": null,
   "metadata": {},
   "outputs": [],
   "source": [
    "import socket\n",
    "\n",
    "SERVEUR = \"chat.gif3001.beon.ca\"\n",
    "PORT = 3001\n",
    "\n",
    "s = socket.socket(socket.AF_INET,socket.SOCK_DGRAM)"
   ]
  },
  {
   "cell_type": "code",
   "execution_count": null,
   "metadata": {},
   "outputs": [],
   "source": [
    "s.sendto(\"Test en classe\".encode(), (SERVEUR,PORT))"
   ]
  },
  {
   "cell_type": "code",
   "execution_count": null,
   "metadata": {},
   "outputs": [],
   "source": [
    "data, adresse = s.recvfrom(1024)"
   ]
  },
  {
   "cell_type": "code",
   "execution_count": null,
   "metadata": {},
   "outputs": [],
   "source": [
    "print (data)"
   ]
  },
  {
   "cell_type": "code",
   "execution_count": null,
   "metadata": {},
   "outputs": [],
   "source": [
    "print (adresse)"
   ]
  },
  {
   "cell_type": "code",
   "execution_count": null,
   "metadata": {},
   "outputs": [],
   "source": [
    "s.close()"
   ]
  },
  {
   "cell_type": "markdown",
   "metadata": {},
   "source": [
    "## Fonctions de résolution de nom et adresse\n",
    "\n",
    "### getaddrinfo()\n",
    "```getaddrinfo(host, port, family=0, type=0, proto=0, flags=0)``` est utilisé pour obtenir une liste d'adresse IP et numéro de port à partir d'un **nom de machine** (ex: www.ulaval.ca) et du **nom d'un service** (ex: http). La résolution d'adresse DNS est utilisé par le système d'exploitation pour obtenir les adresses IP.\n",
    "\n",
    "```getaddrinfo()``` retourne un tuple de 5 éléments: ```(family, type, proto, canonname, sockaddr)``` Ces éléments offrent toutes les informations nécessaires pour créer un socket et établir la connexion vers le service identifié. \n",
    "\n",
    "* ```family, type, proto``` sont les informations nécessaires pour la fonction ```socket()```\n",
    "* ```sockaddr``` est l'adresse socket utilisée pour les fonctions ```connect()``` ou ```sendto()``` \n",
    "\n"
   ]
  },
  {
   "cell_type": "code",
   "execution_count": null,
   "metadata": {},
   "outputs": [],
   "source": [
    "import socket\n",
    "\n",
    "socket.getaddrinfo(\"www.google.com\", \"https\", type=socket.SOCK_STREAM)"
   ]
  },
  {
   "cell_type": "markdown",
   "metadata": {},
   "source": [
    "### getnameinfo()\n",
    "\n",
    "```getnameinfo(sockaddr, flags)``` permet l'opération inverse de getaddrinfo(), c'est à dire retourner le nom de la machine et le nom du service à partir d'une adresse socket IPv4 ou IPv6. La résolution d'adresse DNS est utilisé par le système d'exploitation pour obtenir le nom correspondant à l'adresse IP. Si le nom n'existe pas, l'adresse IP est retournée.\n",
    "\n",
    "Plus d'information est disponible sur cette fonction avec la commande ```man getnameinfo``` sur un poste Linux.\n"
   ]
  },
  {
   "cell_type": "code",
   "execution_count": null,
   "metadata": {},
   "outputs": [],
   "source": [
    "import socket\n",
    "\n",
    "socket.getnameinfo(('132.203.244.29', 25), 0)"
   ]
  },
  {
   "cell_type": "code",
   "execution_count": null,
   "metadata": {},
   "outputs": [],
   "source": [
    "socket.getnameinfo(('2620:0:1af0:dc00::2', 80), 0)"
   ]
  }
 ],
 "metadata": {
  "colab": {
   "include_colab_link": true,
   "name": "GIF3001_API_Socket.ipynb",
   "provenance": []
  },
  "kernelspec": {
   "display_name": "Python 3",
   "language": "python",
   "name": "python3"
  },
  "language_info": {
   "codemirror_mode": {
    "name": "ipython",
    "version": 3
   },
   "file_extension": ".py",
   "mimetype": "text/x-python",
   "name": "python",
   "nbconvert_exporter": "python",
   "pygments_lexer": "ipython3",
   "version": "3.7.6"
  }
 },
 "nbformat": 4,
 "nbformat_minor": 4
}
