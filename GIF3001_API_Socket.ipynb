{
 "cells": [
  {
   "cell_type": "markdown",
   "metadata": {
    "colab_type": "text",
    "id": "view-in-github"
   },
   "source": [
    "<a href=\"https://colab.research.google.com/github/flparen/gif3001-socketapi/blob/master/GIF3001_API_Socket.ipynb\" target=\"_parent\"><img src=\"https://colab.research.google.com/assets/colab-badge.svg\" alt=\"Open In Colab\"/></a>"
   ]
  },
  {
   "cell_type": "markdown",
   "metadata": {
    "colab_type": "text",
    "id": "pSJu5jXpgviD"
   },
   "source": [
    "# API socket\n",
    "L'API socket a été introduit dans BSD UNIX 4.1 en 1981. L'API offre une abstraction des fonctions d'émission et de réception de données. \n",
    "\n",
    "Un **socket** est une interface de communication utilisé par un processus utilisateur. Cette interface prend la forme d'un descripteur de fichier, et est utilisé pour la transmission et réception de données.\n",
    "\n",
    "\n",
    "![alt text](https://github.com/flparen/gif3001-socketapi/raw/master/socket_interface.png)\n",
    "\n",
    "\n",
    "\n",
    "La documentation officielle de l'API socket de Python 3 est disponible à l'adresse https://docs.python.org/3/library/socket.html\n",
    "\n"
   ]
  },
  {
   "cell_type": "markdown",
   "metadata": {
    "colab_type": "text",
    "id": "wW306rN8gviF"
   },
   "source": [
    "Le tableau suivant résume quelques fonctions offertent par l'API socket de Python. Ces fontions utilisent les fonctions correspondantes du système d'exploitation. Nous allons examiner l'utilisation de ces fonctions dans le contexte d'une application client/serveur TCP et UDP.\n",
    "\n",
    "|**Fonction**|**Description**|**client?**|**serveur?**|\n",
    "|:-----------|--------------|:---------:|:----------:|\n",
    "|socket()|Crée un socket|oui|oui|\n",
    "|connect()|Initie une connexion (TCP)|oui|non|\n",
    "|bind()|Lie le socket sur un adresse IP locale|opt|oui|\n",
    "|listen()|Place le socket en mode écoute pour recevoir des connexions client|non|oui|\n",
    "|accept()|Accepte une connexion client|non|oui|\n",
    "|recv(), send(), ...|Reçoit et envoie des données|oui|oui|\n",
    "|close()|Ferme le socket|oui|oui|\n"
   ]
  },
  {
   "cell_type": "markdown",
   "metadata": {
    "colab_type": "text",
    "id": "z51aD95QgviH"
   },
   "source": [
    "\n",
    "Il existe plusieurs familles de socket. Ceux que nous allons utiliser ici sont les sockets de type **IPv4 et IPv6**.\n",
    "\n",
    "|**Famille**|**Description**|\n",
    "|:---------:|:-------------:|\n",
    "|socket.AF\\_INET|IPv4|\n",
    "|socket.AF\\_INET6|IPv6|\n",
    "|socket.AF\\_UNIX|Communication locale|\n",
    "|socket.AF\\_PACKET|Utilisé pour la transmission et réception de packet à la couche liaison (_paquet bas-niveau_)|\n",
    "\n",
    "Python utilise une paire (hôte, port) pour désigner une adresse socket IPv4. *hôte* désigne l'adresse IPv4 ou le nom de la machine, alors que *port* indique le numéro de port du service (ex: 80 pour HTTP).\n",
    "\n",
    "Pour IPv6, l'adresse socket est représenté par (hôte, port, flowinfo, scopeid), où *hôte* et l'adresse IPv6 ou le nom de la machine, et *port* est le numéro de port du service (semblable à IPv4).\n"
   ]
  },
  {
   "cell_type": "markdown",
   "metadata": {
    "colab_type": "text",
    "id": "lXqfm4K1gviI"
   },
   "source": [
    "Pour utiliser l'interface socket en Python, il est nécessaire d'importer le module `socket`\n",
    "```python\n",
    "import socket\n",
    "```\n",
    "\n"
   ]
  },
  {
   "cell_type": "markdown",
   "metadata": {},
   "source": [
    "## Client TCP\n",
    "\n",
    "Le schéma suivant démontre l'interaction entre un client et serveur TCP du point de vue de l'API socket.\n",
    "\n",
    "![alt text](https://github.com/flparen/gif3001-socketapi/raw/master/client_serveur_TCP.png)\n",
    "\n",
    "Regardons l'implémentation du client en Python\n"
   ]
  },
  {
   "cell_type": "code",
   "execution_count": 14,
   "metadata": {
    "colab": {},
    "colab_type": "code",
    "id": "c-wCAGaigviK"
   },
   "outputs": [],
   "source": [
    "import socket\n",
    "\n",
    "SERVEUR = \"chat.gif3001.beon.ca\"\n",
    "PORT = 3001\n",
    "\n",
    "s = socket.socket(socket.AF_INET,socket.SOCK_STREAM)"
   ]
  },
  {
   "cell_type": "code",
   "execution_count": 11,
   "metadata": {
    "colab": {
     "base_uri": "https://localhost:8080/",
     "height": 34
    },
    "colab_type": "code",
    "id": "ZJ6qv9FogviO",
    "outputId": "84dfbdae-3d73-4beb-f2a6-47b51c984d90"
   },
   "outputs": [
    {
     "data": {
      "text/plain": [
       "<socket.socket fd=57, family=AddressFamily.AF_INET, type=SocketKind.SOCK_STREAM, proto=0, laddr=('0.0.0.0', 0)>"
      ]
     },
     "execution_count": 11,
     "metadata": {},
     "output_type": "execute_result"
    }
   ],
   "source": [
    "s"
   ]
  },
  {
   "cell_type": "markdown",
   "metadata": {},
   "source": [
    "L'objet socket est créé. Un socket de type TCP doit être **connecté** pour pouvoir transmettre des données. La fonction *connect()* indique au système d'exploitation d'établir une connexion TCP vers le serveur et le numéro de port indiqué en paramètre."
   ]
  },
  {
   "cell_type": "code",
   "execution_count": 18,
   "metadata": {},
   "outputs": [
    {
     "ename": "OSError",
     "evalue": "[Errno 56] Socket is already connected",
     "output_type": "error",
     "traceback": [
      "\u001b[0;31m---------------------------------------------------------------------------\u001b[0m",
      "\u001b[0;31mOSError\u001b[0m                                   Traceback (most recent call last)",
      "\u001b[0;32m<ipython-input-18-4e896bf09cfa>\u001b[0m in \u001b[0;36m<module>\u001b[0;34m\u001b[0m\n\u001b[0;32m----> 1\u001b[0;31m \u001b[0ms\u001b[0m\u001b[0;34m.\u001b[0m\u001b[0mconnect\u001b[0m\u001b[0;34m(\u001b[0m\u001b[0;34m(\u001b[0m\u001b[0mSERVEUR\u001b[0m\u001b[0;34m,\u001b[0m \u001b[0mPORT\u001b[0m\u001b[0;34m)\u001b[0m\u001b[0;34m)\u001b[0m\u001b[0;34m\u001b[0m\u001b[0;34m\u001b[0m\u001b[0m\n\u001b[0m",
      "\u001b[0;31mOSError\u001b[0m: [Errno 56] Socket is already connected"
     ]
    }
   ],
   "source": [
    "s.connect((SERVEUR, PORT))"
   ]
  },
  {
   "cell_type": "markdown",
   "metadata": {},
   "source": [
    "L'objet socket est maintenant connecté. Nous pouvons utiliser la fonction *send()* pour transmettre des données. Les données doivent être de type *octet* (bytes)"
   ]
  },
  {
   "cell_type": "code",
   "execution_count": 17,
   "metadata": {},
   "outputs": [
    {
     "data": {
      "text/plain": [
       "11"
      ]
     },
     "execution_count": 17,
     "metadata": {},
     "output_type": "execute_result"
    }
   ],
   "source": [
    "s.send(\"bonjour toi\".encode())"
   ]
  },
  {
   "cell_type": "code",
   "execution_count": 8,
   "metadata": {},
   "outputs": [
    {
     "data": {
      "text/plain": [
       "<socket.socket [closed] fd=-1, family=AddressFamily.AF_INET, type=SocketKind.SOCK_STREAM, proto=0>"
      ]
     },
     "execution_count": 8,
     "metadata": {},
     "output_type": "execute_result"
    }
   ],
   "source": [
    "s"
   ]
  },
  {
   "cell_type": "code",
   "execution_count": null,
   "metadata": {},
   "outputs": [],
   "source": []
  }
 ],
 "metadata": {
  "colab": {
   "include_colab_link": true,
   "name": "GIF3001_API_Socket.ipynb",
   "provenance": []
  },
  "kernelspec": {
   "display_name": "Python 3",
   "language": "python",
   "name": "python3"
  },
  "language_info": {
   "codemirror_mode": {
    "name": "ipython",
    "version": 3
   },
   "file_extension": ".py",
   "mimetype": "text/x-python",
   "name": "python",
   "nbconvert_exporter": "python",
   "pygments_lexer": "ipython3",
   "version": "3.7.6"
  }
 },
 "nbformat": 4,
 "nbformat_minor": 4
}
