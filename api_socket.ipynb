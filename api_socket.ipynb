{
 "cells": [
  {
   "cell_type": "markdown",
   "metadata": {},
   "source": [
    "# API socket\n",
    "L'API socket a été introduit dans BSD UNIX 4.1 en 1981. L'API offre une abstraction des fonctions d'émission et de réception de données. \n",
    "\n",
    "Un **socket** est une interface de communication utilisé par un processus utilisateur. Cette interface prend la forme d'un descripteur de fichier, et est utilisé pour la transmission et réception de données.\n",
    "Il existe plusieurs classes de **socket** (_domain_). Ceux qui nous intéresse particulièrement dans le cours sont les sockets de type **IPv4 et IPv6**.\n",
    "\n",
    "```python\n",
    "import socket\n",
    "socket.socket(\n",
    "```\n",
    "\n",
    "\n"
   ]
  },
  {
   "cell_type": "markdown",
   "metadata": {},
   "source": [
    "Le tableau suivant résume quelques fonctions de base du socket API en C \n",
    "\n",
    "|**Fonction**|**Description**|**client?**|**serveur?**|\n",
    "|:-----------|--------------|:---------:|:----------:|\n",
    "|socket()|Crée un socket|oui|oui|\n",
    "|connect()|Initie une connexion (TCP)|oui|non|\n",
    "|bind()|Lie le socket sur un adresse IP locale|opt|oui|\n",
    "|listen()|Place le socket en mode écoute pour recevoir des connexions client|non|oui|\n",
    "|accept()|Accepte une connexion client|non|oui|\n",
    "|read(), write(), recv(), send(), ...|Reçoit et envoie des données|oui|oui|\n",
    "|close()|Ferme le socket|oui|oui|\n"
   ]
  },
  {
   "cell_type": "markdown",
   "metadata": {},
   "source": [
    "Les sockets \n",
    "Il existe plusieurs familles de socket\n",
    "\n",
    "|**Famille**|**Description**|\n",
    "|:---------:|:-------------:|\n",
    "|socket.AF\\_INET|IPv4|\n",
    "|socket.AF\\_INET6|IPv6|\n",
    "|socket.AF\\_UNIX|Communication locale|\n",
    "|socket.AF\\_PACKET|Utilisé pour la transmission et réception de packet à la couche liaison (_paquet bas-niveau_)|"
   ]
  },
  {
   "cell_type": "markdown",
   "metadata": {},
   "source": [
    "Pour utiliser l'interface socket en Python, il est nécessaire d'importer le module `socket`\n",
    "```python\n",
    "import socket\n",
    "```\n",
    "\n"
   ]
  },
  {
   "cell_type": "code",
   "execution_count": 1,
   "metadata": {},
   "outputs": [],
   "source": [
    "import socket\n",
    "socket.socket(socket.AF_INET,)"
   ]
  },
  {
   "cell_type": "code",
   "execution_count": null,
   "metadata": {},
   "outputs": [],
   "source": [
    "socket.socket()"
   ]
  }
 ],
 "metadata": {
  "kernelspec": {
   "display_name": "Python 3",
   "language": "python",
   "name": "python3"
  },
  "language_info": {
   "codemirror_mode": {
    "name": "ipython",
    "version": 3
   },
   "file_extension": ".py",
   "mimetype": "text/x-python",
   "name": "python",
   "nbconvert_exporter": "python",
   "pygments_lexer": "ipython3",
   "version": "3.7.2"
  }
 },
 "nbformat": 4,
 "nbformat_minor": 2
}
